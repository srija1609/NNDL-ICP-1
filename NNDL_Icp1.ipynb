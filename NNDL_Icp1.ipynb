{
  "cells": [
    {
      "cell_type": "code",
      "execution_count": null,
      "metadata": {
        "id": "essrxqYhfsv3"
      },
      "outputs": [],
      "source": []
    },
    {
      "cell_type": "markdown",
      "metadata": {
        "id": "LKh9parzgEJq"
      },
      "source": [
        "Write a python program for the following:"
      ]
    },
    {
      "cell_type": "markdown",
      "metadata": {
        "id": "MQCBTS36gT82"
      },
      "source": [
        " Input the string “Python” as a list of characters from console, delete at least 2 characters, reversethe\n",
        "resultant string and print it.\n",
        "Sample input:\n",
        "•python\n",
        "•Sample output:\n",
        "•ntyp\n"
      ]
    },
    {
      "cell_type": "code",
      "execution_count": 1,
      "metadata": {
        "colab": {
          "base_uri": "https://localhost:8080/"
        },
        "id": "IqJkM1AIgE9I",
        "outputId": "e5cb6fd3-072e-4424-ec98-b1f725826c70"
      },
      "outputs": [
        {
          "output_type": "stream",
          "name": "stdout",
          "text": [
            "Enter a string: python\n",
            "Modified and reversed string: htyp\n"
          ]
        }
      ],
      "source": [
        "# Task 1: Manipulating Strings\n",
        "input_string = input(\"Enter a string: \")  # Input the string\n",
        "char_list = list(input_string)  # Convert the string to a list of characters\n",
        "\n",
        "if len(char_list) >= 2:  # Ensure there are at least 2 characters to delete\n",
        "    del char_list[-2:]  # Delete the last two characters\n",
        "    char_list.reverse()  # Reverse the list\n",
        "    result = ''.join(char_list)  # Convert the list back to a string\n",
        "    print(\"Modified and reversed string:\", result)\n",
        "else:\n",
        "    print(\"String must have at least 2 characters to perform the operation.\")\n",
        "\n"
      ]
    },
    {
      "cell_type": "code",
      "execution_count": 2,
      "metadata": {
        "colab": {
          "base_uri": "https://localhost:8080/"
        },
        "id": "ChvZMDXCg2DA",
        "outputId": "c8cac177-cd48-4045-9f0b-bcf636796c24"
      },
      "outputs": [
        {
          "output_type": "stream",
          "name": "stdout",
          "text": [
            "Enter the first number: 1.2\n",
            "Enter the second number: 1.2\n",
            "Arithmetic Operations:\n",
            "Addition: 2.4\n",
            "Subtraction: 0.0\n",
            "Multiplication: 1.44\n",
            "Division: 1.0\n"
          ]
        }
      ],
      "source": [
        "# Task 2: Arithmetic Operations\n",
        "num1 = float(input(\"Enter the first number: \"))\n",
        "num2 = float(input(\"Enter the second number: \"))\n",
        "\n",
        "# Perform arithmetic operations\n",
        "addition = num1 + num2\n",
        "subtraction = num1 - num2\n",
        "multiplication = num1 * num2\n",
        "\n",
        "# Check if num2 is not 0 to avoid division by zero\n",
        "if num2 != 0:\n",
        "    division = num1 / num2\n",
        "else:\n",
        "    division = \"Undefined (division by zero)\"\n",
        "\n",
        "print(\"Arithmetic Operations:\")\n",
        "print(\"Addition:\", addition)\n",
        "print(\"Subtraction:\", subtraction)\n",
        "print(\"Multiplication:\", multiplication)\n",
        "print(\"Division:\", division)"
      ]
    },
    {
      "cell_type": "markdown",
      "metadata": {
        "id": "FrRw1JyaiBD3"
      },
      "source": [
        "Write a program that accepts a sentence and replace each occurrence of ‘python’ with ‘pythons’.\n"
      ]
    },
    {
      "cell_type": "code",
      "execution_count": 3,
      "metadata": {
        "colab": {
          "base_uri": "https://localhost:8080/"
        },
        "id": "0NcryBDRiOll",
        "outputId": "25987909-7c79-4496-a913-ec3af301fcab"
      },
      "outputs": [
        {
          "output_type": "stream",
          "name": "stdout",
          "text": [
            "Enter a sentence: I love playing with python\n",
            "Modified sentence: I love playing with pythons\n"
          ]
        }
      ],
      "source": [
        "def replace_python(sentence):\n",
        "    replaced_sentence = sentence.replace(\"python\", \"pythons\")\n",
        "    return replaced_sentence\n",
        "\n",
        "input_sentence = input(\"Enter a sentence: \")\n",
        "modified_sentence = replace_python(input_sentence)\n",
        "print(\"Modified sentence:\", modified_sentence)\n"
      ]
    },
    {
      "cell_type": "markdown",
      "metadata": {
        "id": "Bo2FXZKwj0Gj"
      },
      "source": [
        "Use the if statement conditions to write a program to print the letter grade based on an input class score. Use the\n",
        "grading scheme we are using in this class."
      ]
    },
    {
      "cell_type": "code",
      "execution_count": 4,
      "metadata": {
        "colab": {
          "base_uri": "https://localhost:8080/"
        },
        "id": "XT5kYBD0j1-z",
        "outputId": "a5ceedb4-3d51-4b4f-95f4-1f59b47e3fd0"
      },
      "outputs": [
        {
          "output_type": "stream",
          "name": "stdout",
          "text": [
            "Enter the class score: 70\n",
            "The letter grade for the score 70.00 is: C\n"
          ]
        }
      ],
      "source": [
        "def calculate_class_grade(score):\n",
        "    if score >= 90:\n",
        "        return \"A\"\n",
        "    elif score >= 80:\n",
        "        return \"B\"\n",
        "    elif score >= 70:\n",
        "        return \"C\"\n",
        "    elif score >= 60:\n",
        "        return \"D\"\n",
        "    else:\n",
        "        return \"F\"\n",
        "\n",
        "# Get input class score from the user\n",
        "try:\n",
        "    class_score = float(input(\"Enter the class score: \"))\n",
        "    if 0 <= class_score <= 100:\n",
        "        letter_grade = calculate_class_grade(class_score)\n",
        "        print(\"The letter grade for the score {:.2f} is: {}\".format(class_score, letter_grade))\n",
        "    else:\n",
        "        print(\"Invalid score. Please enter a score between 0 and 100.\")\n",
        "except ValueError:\n",
        "    print(\"Invalid input. Please enter a valid number.\")\n"
      ]
    },
    {
      "cell_type": "code",
      "execution_count": 4,
      "metadata": {
        "id": "4WNjIKkNcmGF"
      },
      "outputs": [],
      "source": []
    }
  ],
  "metadata": {
    "colab": {
      "provenance": []
    },
    "kernelspec": {
      "display_name": "Python 3 (ipykernel)",
      "language": "python",
      "name": "python3"
    },
    "language_info": {
      "codemirror_mode": {
        "name": "ipython",
        "version": 3
      },
      "file_extension": ".py",
      "mimetype": "text/x-python",
      "name": "python",
      "nbconvert_exporter": "python",
      "pygments_lexer": "ipython3",
      "version": "3.11.4"
    }
  },
  "nbformat": 4,
  "nbformat_minor": 0
}